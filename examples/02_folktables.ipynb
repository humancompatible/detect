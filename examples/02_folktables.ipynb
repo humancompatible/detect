{
 "cells": [
  {
   "cell_type": "markdown",
   "id": "2b764402",
   "metadata": {},
   "source": [
    "# Folktables: Real-World Bias Detection with MSD\n",
    "\n",
    "In this notebook we load real-world American Community Survey (ACS) data (via [folktables](https://github.com/socialfoundations/folktables) and the [Census Bureau’s ACS program](https://www.census.gov/programs-surveys/acs/data.html \"American Community Survey data\"))  \n",
    " and use **Maximum Subgroup Discrepancy (MSD)** to:\n",
    "\n",
    "1. Find the most disadvantaged subgroup *within* each state (on the ACS Income ≥ $50 000 classification task)  \n",
    "2. Find the subgroup where two states differ *most*  \n",
    "\n",
    "**MSD** finds the most disproportionately represetned intersection of protected groups (e.g. age×marital-status×race…). It returns both the **value** (percentage‐point gap) and an **interpretable rule** (a conjunction of feature‐value pairs).\n"
   ]
  },
  {
   "cell_type": "markdown",
   "id": "adc690ca",
   "metadata": {},
   "source": [
    "## Configuration & Imports"
   ]
  },
  {
   "cell_type": "code",
   "execution_count": 1,
   "id": "7c60cf15",
   "metadata": {},
   "outputs": [],
   "source": [
    "import numpy as np\n",
    "import pandas as pd\n",
    "\n",
    "# We'll run the Income ≥ 50k task for each state:\n",
    "from folktables import ACSIncome\n",
    "\n",
    "from humancompatible.detect import detect_bias, detect_bias_two_samples, prepare_dataset\n",
    "from humancompatible.detect.utils import report_subgroup_bias, subgroup_map_from_conjuncts_dataframe, signed_subgroup_discrepancy\n",
    "from folktables_utils import (\n",
    "    load_state_data,\n",
    "    ProtectedOnly,\n",
    "    FEATURE_PROCESSING,\n",
    "    CONTINUOUS_FEATURES, \n",
    "    FEATURE_NAMES, \n",
    "    PROTECTED_VALUES_MAP,\n",
    ")"
   ]
  },
  {
   "cell_type": "markdown",
   "id": "a2c40915",
   "metadata": {},
   "source": [
    "## PUMS Data Dictionary\n",
    "\n",
    "For a complete list of all ACS PUMS variables, their codes and labels (e.g. every state code for `POBP`, every education level for `SCHL`, etc.), see the official 2018 PUMS Data Dictionary:\n",
    "\n",
    "> **PUMS Data Dictionary (2018)**  \n",
    "> https://www2.census.gov/programs-surveys/acs/tech_docs/pums/data_dict/PUMS_Data_Dictionary_2018.pdf"
   ]
  },
  {
   "cell_type": "markdown",
   "id": "bdeb10ad",
   "metadata": {},
   "source": [
    "## State selection"
   ]
  },
  {
   "cell_type": "code",
   "execution_count": 2,
   "id": "46bafef0",
   "metadata": {},
   "outputs": [],
   "source": [
    "# ────────── Which two states to compare ──────────\n",
    "state1, state2 = \"FL\", \"NH\" # Florida and New Hampshire"
   ]
  },
  {
   "cell_type": "markdown",
   "id": "ee1b87b4",
   "metadata": {},
   "source": [
    "## Global Configuration"
   ]
  },
  {
   "cell_type": "code",
   "execution_count": 3,
   "id": "75d8967c",
   "metadata": {},
   "outputs": [
    {
     "name": "stdout",
     "output_type": "stream",
     "text": [
      "Features can be selected from: ['AGEP', 'COW', 'SCHL', 'MAR', 'OCCP', 'POBP', 'RELP', 'WKHP', 'SEX', 'RAC1P']\n",
      "Explanation of their abbreviations could be found below.\n"
     ]
    }
   ],
   "source": [
    "# ────────── Which columns are protected ──────────\n",
    "print(\"Features can be selected from:\", ACSIncome.features)\n",
    "print(\"Explanation of their abbreviations could be found below.\")\n",
    "protected_attrs = ['AGEP', 'SCHL', 'OCCP', 'SEX', 'RAC1P']\n",
    "\n",
    "# ────────── MSD / Solver settings ──────────\n",
    "n_samples = 1_000   # number of samples to subsample for faster computation\n",
    "method = \"MSD\"\n",
    "seed = 42 # fixed for demo purposes \n",
    "method_kwargs = {\n",
    "    \"solver\": \"gurobi\",  # comment out if you don’t have a license\n",
    "}"
   ]
  },
  {
   "cell_type": "code",
   "execution_count": 4,
   "id": "1b157c9d",
   "metadata": {},
   "outputs": [
    {
     "data": {
      "text/plain": [
       "{'SEX': 'Sex',\n",
       " 'RAC1P': 'Race',\n",
       " 'AGEP': 'Age',\n",
       " 'MAR': 'Marital status',\n",
       " 'POBP': 'Place of birth',\n",
       " 'DIS': 'Disability',\n",
       " 'CIT': 'Citizenship',\n",
       " 'MIL': 'Military service',\n",
       " 'ANC': 'Ancestry',\n",
       " 'NATIVITY': 'Foreign or US native',\n",
       " 'DEAR': 'Difficulty hearing',\n",
       " 'DEYE': 'Difficulty seeing',\n",
       " 'DREM': 'Cognitive difficulty',\n",
       " 'FER': 'Gave birth last year',\n",
       " 'POVPIP': 'Income / Poverty threshold',\n",
       " 'COW': 'Class of worker',\n",
       " 'SCHL': 'Educational attainment',\n",
       " 'OCCP': 'Occupation recode',\n",
       " 'RELP': 'Relationship',\n",
       " 'WKHP': 'Usual hours worked per week past 12 months'}"
      ]
     },
     "metadata": {},
     "output_type": "display_data"
    }
   ],
   "source": [
    "# ────────── Utility Setup ──────────\n",
    "display(FEATURE_NAMES)\n",
    "continuous_feats = [f for f in ACSIncome.features if f in CONTINUOUS_FEATURES]\n",
    "feature_map = FEATURE_PROCESSING  # optional custom binning - to reduce the number of bins"
   ]
  },
  {
   "cell_type": "markdown",
   "id": "821286c5",
   "metadata": {},
   "source": [
    "## Download & Prepare the Two-State Dataset"
   ]
  },
  {
   "cell_type": "code",
   "execution_count": 5,
   "id": "b6e3ddae",
   "metadata": {},
   "outputs": [
    {
     "name": "stdout",
     "output_type": "stream",
     "text": [
      "FL shape: (98925, 10)\n",
      "NH shape: (7966, 10)\n"
     ]
    },
    {
     "data": {
      "text/html": [
       "<div>\n",
       "<style scoped>\n",
       "    .dataframe tbody tr th:only-of-type {\n",
       "        vertical-align: middle;\n",
       "    }\n",
       "\n",
       "    .dataframe tbody tr th {\n",
       "        vertical-align: top;\n",
       "    }\n",
       "\n",
       "    .dataframe thead th {\n",
       "        text-align: right;\n",
       "    }\n",
       "</style>\n",
       "<table border=\"1\" class=\"dataframe\">\n",
       "  <thead>\n",
       "    <tr style=\"text-align: right;\">\n",
       "      <th></th>\n",
       "      <th>AGEP</th>\n",
       "      <th>COW</th>\n",
       "      <th>SCHL</th>\n",
       "      <th>MAR</th>\n",
       "      <th>OCCP</th>\n",
       "      <th>POBP</th>\n",
       "      <th>RELP</th>\n",
       "      <th>WKHP</th>\n",
       "      <th>SEX</th>\n",
       "      <th>RAC1P</th>\n",
       "    </tr>\n",
       "  </thead>\n",
       "  <tbody>\n",
       "    <tr>\n",
       "      <th>0</th>\n",
       "      <td>20.0</td>\n",
       "      <td>1.0</td>\n",
       "      <td>16.0</td>\n",
       "      <td>5.0</td>\n",
       "      <td>5240.0</td>\n",
       "      <td>11.0</td>\n",
       "      <td>17.0</td>\n",
       "      <td>40.0</td>\n",
       "      <td>1.0</td>\n",
       "      <td>9.0</td>\n",
       "    </tr>\n",
       "    <tr>\n",
       "      <th>1</th>\n",
       "      <td>18.0</td>\n",
       "      <td>1.0</td>\n",
       "      <td>18.0</td>\n",
       "      <td>5.0</td>\n",
       "      <td>4622.0</td>\n",
       "      <td>36.0</td>\n",
       "      <td>17.0</td>\n",
       "      <td>40.0</td>\n",
       "      <td>2.0</td>\n",
       "      <td>2.0</td>\n",
       "    </tr>\n",
       "    <tr>\n",
       "      <th>2</th>\n",
       "      <td>18.0</td>\n",
       "      <td>1.0</td>\n",
       "      <td>18.0</td>\n",
       "      <td>5.0</td>\n",
       "      <td>4130.0</td>\n",
       "      <td>34.0</td>\n",
       "      <td>17.0</td>\n",
       "      <td>40.0</td>\n",
       "      <td>1.0</td>\n",
       "      <td>1.0</td>\n",
       "    </tr>\n",
       "    <tr>\n",
       "      <th>3</th>\n",
       "      <td>25.0</td>\n",
       "      <td>5.0</td>\n",
       "      <td>20.0</td>\n",
       "      <td>5.0</td>\n",
       "      <td>9825.0</td>\n",
       "      <td>26.0</td>\n",
       "      <td>17.0</td>\n",
       "      <td>50.0</td>\n",
       "      <td>1.0</td>\n",
       "      <td>1.0</td>\n",
       "    </tr>\n",
       "    <tr>\n",
       "      <th>4</th>\n",
       "      <td>27.0</td>\n",
       "      <td>2.0</td>\n",
       "      <td>17.0</td>\n",
       "      <td>1.0</td>\n",
       "      <td>2060.0</td>\n",
       "      <td>365.0</td>\n",
       "      <td>17.0</td>\n",
       "      <td>65.0</td>\n",
       "      <td>2.0</td>\n",
       "      <td>1.0</td>\n",
       "    </tr>\n",
       "  </tbody>\n",
       "</table>\n",
       "</div>"
      ],
      "text/plain": [
       "   AGEP  COW  SCHL  MAR    OCCP   POBP  RELP  WKHP  SEX  RAC1P\n",
       "0  20.0  1.0  16.0  5.0  5240.0   11.0  17.0  40.0  1.0    9.0\n",
       "1  18.0  1.0  18.0  5.0  4622.0   36.0  17.0  40.0  2.0    2.0\n",
       "2  18.0  1.0  18.0  5.0  4130.0   34.0  17.0  40.0  1.0    1.0\n",
       "3  25.0  5.0  20.0  5.0  9825.0   26.0  17.0  50.0  1.0    1.0\n",
       "4  27.0  2.0  17.0  1.0  2060.0  365.0  17.0  65.0  2.0    1.0"
      ]
     },
     "metadata": {},
     "output_type": "display_data"
    }
   ],
   "source": [
    "X1, y1 = load_state_data(state1, problem_cls=ACSIncome)\n",
    "X2, y2 = load_state_data(state2, problem_cls=ACSIncome)\n",
    "\n",
    "print(f\"{state1} shape:\", X1.shape)\n",
    "print(f\"{state2} shape:\", X2.shape)\n",
    "\n",
    "display(X1.head())"
   ]
  },
  {
   "cell_type": "markdown",
   "id": "5e075cc8",
   "metadata": {},
   "source": [
    "## Within-State Bias Detection"
   ]
  },
  {
   "cell_type": "markdown",
   "id": "a103f27b",
   "metadata": {},
   "source": [
    "> **Task: ACS Income (> \\$50 000) Classification**  \n",
    "> We use the **ACSIncome** problem from **folktables**, which predicts whether an individual’s personal income (`PINCP`) exceeds \\$50 000 per year.  \n",
    "> \n",
    "> - **Features used**:  \n",
    ">   - `AGEP` (Age)  \n",
    ">   - `COW`  (Class of worker)  \n",
    ">   - `SCHL` (Educational attainment)  \n",
    ">   - `MAR`  (Marital status)  \n",
    ">   - `OCCP` (Occupation recode)  \n",
    ">   - `POBP` (Place of birth)  \n",
    ">   - `RELP` (Relationship)  \n",
    ">   - `WKHP` (Usual hours worked per week past 12 months)  \n",
    ">   - `SEX`  (Sex)  \n",
    ">   - `RAC1P`(Race)  \n",
    "> - **Target**: \n",
    ">     1 if `PINCP > 50 000`, else 0 (Indicator of whether one has income above $50k)\n",
    ">\n",
    "> - **Preprocessing** (handled by `ACSIncome` and our pipeline):  \n",
    ">   - Filter out individuals under 16  \n",
    ">   - Filter out zero or missing income (`PINCP`)  \n",
    ">   - Map any remaining missing categorical codes to -1  \n",
    "> \n",
    "> Our within‐state **MSD** then finds which protected subgroup (e.g. \"White & Male\", \"Doctorate holders born abroad\", etc.) is **most disproportionately represented** in the high- vs. low-income classes."
   ]
  },
  {
   "cell_type": "code",
   "execution_count": 6,
   "id": "9f1d0586",
   "metadata": {},
   "outputs": [
    {
     "name": "stderr",
     "output_type": "stream",
     "text": [
      "[INFO] Seeding the run with seed=42\n",
      "[INFO] Set parameter Username\n",
      "[INFO] Set parameter LicenseID to value 2649381\n",
      "[INFO] Academic license - for non-commercial use only - expires 2026-04-09\n"
     ]
    },
    {
     "name": "stdout",
     "output_type": "stream",
     "text": [
      "State FL\n",
      "MSD = 0.193\n",
      "Rule: RAC1P = 1.0 AND SEX = 1.0\n",
      "Explained rule: Race = White AND Sex = Male\n"
     ]
    }
   ],
   "source": [
    "msd_val_1, rule_1 = detect_bias(\n",
    "    X1, y1,\n",
    "    protected_list=protected_attrs,\n",
    "    continuous_list=continuous_feats,\n",
    "    fp_map=feature_map,\n",
    "    n_samples=n_samples,\n",
    "    seed=seed,\n",
    "    method=method,\n",
    "    method_kwargs=method_kwargs\n",
    ")\n",
    "\n",
    "report_subgroup_bias(\n",
    "    f\"State {state1}\",\n",
    "    msd_val_1,\n",
    "    rule_1,\n",
    "    FEATURE_NAMES,\n",
    "    PROTECTED_VALUES_MAP,\n",
    ")"
   ]
  },
  {
   "cell_type": "code",
   "execution_count": 7,
   "id": "466b8b88",
   "metadata": {},
   "outputs": [
    {
     "name": "stdout",
     "output_type": "stream",
     "text": [
      "Δ = 0.193 -> subgroup is over-represented among high-income in FL.\n"
     ]
    }
   ],
   "source": [
    "# --- signed gap (Δ) ----------------------------------------------------------\n",
    "np.random.seed(seed)                      # keep the subsampling reproducible\n",
    "_, X1_sub, y1_sub = prepare_dataset(\n",
    "    X1,\n",
    "    y1,\n",
    "    n_max=n_samples,\n",
    "    protected_attrs=protected_attrs,\n",
    "    continuous_feats=continuous_feats,\n",
    "    feature_processing=feature_map,\n",
    ")\n",
    "\n",
    "mask_1 = subgroup_map_from_conjuncts_dataframe(rule_1, X1_sub)\n",
    "delta_1 = signed_subgroup_discrepancy(mask_1, y1_sub.to_numpy().ravel())\n",
    "\n",
    "print(f\"Δ = {delta_1:.3f} -> subgroup is {\"over-represented\" if delta_1 > 0 else \"under-represented\"} among high-income in {state1}.\")"
   ]
  },
  {
   "cell_type": "markdown",
   "id": "d8505625",
   "metadata": {},
   "source": [
    "> **How to read the numbers**  \n",
    "> * **MSD = 0.193** is the *magnitude* of the worst gap: White males differ\n",
    ">   by 19.3 percentage points from their complement (all non-White or female)\n",
    ">   in the high- vs. low-income split.  \n",
    "> * **Δ = +0.193** has the same size **but keeps the sign**.  A positive Δ tells\n",
    ">   us the subgroup is **over-represented in the positive class**  \n",
    ">   (here: high-income).  A negative Δ would mean under-representation.\n",
    ">\n",
    "> Need the full code-book for `RAC1P`, `SCHL`, …?  \n",
    "> See the official **2018 PUMS Data Dictionary**  \n",
    "> <https://www2.census.gov/programs-surveys/acs/tech_docs/pums/data_dict/PUMS_Data_Dictionary_2018.pdf>\n"
   ]
  },
  {
   "cell_type": "code",
   "execution_count": 8,
   "id": "5abd193f",
   "metadata": {},
   "outputs": [
    {
     "name": "stderr",
     "output_type": "stream",
     "text": [
      "[INFO] Seeding the run with seed=42\n"
     ]
    },
    {
     "name": "stdout",
     "output_type": "stream",
     "text": [
      "State NH\n",
      "MSD = 0.217\n",
      "Rule: RAC1P = 1.0 AND SEX = 1.0\n",
      "Explained rule: Race = White AND Sex = Male\n"
     ]
    }
   ],
   "source": [
    "msd_val_2, rule_2 = detect_bias(\n",
    "    X2, y2,\n",
    "    protected_list=protected_attrs,\n",
    "    continuous_list=continuous_feats,\n",
    "    fp_map=feature_map,\n",
    "    n_samples=n_samples,\n",
    "    seed=seed,\n",
    "    method=method,\n",
    "    method_kwargs=method_kwargs\n",
    ")\n",
    "\n",
    "report_subgroup_bias(\n",
    "    f\"State {state2}\",\n",
    "    msd_val_2,\n",
    "    rule_2,\n",
    "    FEATURE_NAMES,\n",
    "    PROTECTED_VALUES_MAP,\n",
    ")"
   ]
  },
  {
   "cell_type": "code",
   "execution_count": 9,
   "id": "2e32c32f",
   "metadata": {},
   "outputs": [
    {
     "name": "stdout",
     "output_type": "stream",
     "text": [
      "Δ = 0.217 -> subgroup is over-represented among high-income in NH.\n"
     ]
    }
   ],
   "source": [
    "# --- signed gap (Δ) ----------------------------------------------------------\n",
    "np.random.seed(seed)                      # keep the subsampling reproducible\n",
    "_, X2_sub, y2_sub = prepare_dataset(\n",
    "    X2,\n",
    "    y2,\n",
    "    n_max=n_samples,\n",
    "    protected_attrs=protected_attrs,\n",
    "    continuous_feats=continuous_feats,\n",
    "    feature_processing=feature_map,\n",
    ")\n",
    "\n",
    "mask_2 = subgroup_map_from_conjuncts_dataframe(rule_2, X2_sub)\n",
    "delta_2 = signed_subgroup_discrepancy(mask_2, y2_sub.to_numpy().ravel())\n",
    "\n",
    "print(f\"Δ = {delta_2:.3f} -> subgroup is {\"over-represented\" if delta_2 > 0 else \"under-represented\"} among high-income in {state2}.\")"
   ]
  },
  {
   "cell_type": "markdown",
   "id": "16b7cdc2",
   "metadata": {},
   "source": [
    "> **New Hampshire - what the two numbers mean**  \n",
    "> * **MSD = 0.217** is the *size* of the worst gap: White males differ by 21.7 percentage-points from everyone else in the high- vs. low-income split.  \n",
    "> * **Δ = +0.217** keeps the sign. The \"+\" tells us the subgroup is **over-represented among the high-income earners** in New Hampshire.  \n",
    ">\n",
    "> (A negative Δ would signal under-representation in the positive class.)\n",
    ">\n",
    "> Need the full code-book for `RAC1P`, `SCHL`, etc.?  \n",
    "> See the **2018 PUMS Data Dictionary**  \n",
    "> <https://www2.census.gov/programs-surveys/acs/tech_docs/pums/data_dict/PUMS_Data_Dictionary_2018.pdf>"
   ]
  },
  {
   "cell_type": "markdown",
   "id": "c3046496",
   "metadata": {},
   "source": [
    "## Interpret the Rules\n",
    "\n",
    "Folktables encodes `RAC1P` (race) as:\n",
    "\n",
    "| Code | Meaning |\n",
    "|------|---------|\n",
    "| 1    | White   |\n",
    "| 2    | Black   |\n",
    "| 3    | American Indian or Alaska Native |\n",
    "| 4    | Alaska Native alone |\n",
    "| 5    | Native Hawaiian or Other Pacific Islander |\n",
    "| 6    | Asian   |\n",
    "| 7    | Pacific Islander alone |\n",
    "| 8    | Some Other Race |\n",
    "| 9    | Two or More Races |\n",
    "\n",
    "And `SEX` as:\n",
    "\n",
    "| Code | Meaning |\n",
    "|------|---------|\n",
    "| 1    | Male    |\n",
    "| 2    | Female  |\n",
    "\n",
    "- **State FL:**  \n",
    "  `RAC1P = 1.0 AND SEX = 1.0` -> \"White & Male\" are over-represented by up to **19.3 pp**.  \n",
    "- **State NH:**  \n",
    "  `RAC1P = 1.0 AND SEX = 1.0` -> \"White & Male\" are over-represented by up to **21.7 pp**.  "
   ]
  },
  {
   "cell_type": "markdown",
   "id": "6ca7f8f5",
   "metadata": {},
   "source": [
    "## Cross-State Discrepancy"
   ]
  },
  {
   "cell_type": "code",
   "execution_count": 10,
   "id": "02900ffe",
   "metadata": {},
   "outputs": [
    {
     "name": "stderr",
     "output_type": "stream",
     "text": [
      "[INFO] Seeding the run with seed=42\n"
     ]
    },
    {
     "name": "stdout",
     "output_type": "stream",
     "text": [
      "FL vs NH\n",
      "MSD = 0.226\n",
      "Rule: RAC1P = 1.0 AND CIT = 1.0 AND DREM = 2.0 AND DEAR = 2.0\n",
      "Explained rule: Race = White AND Citizenship = Born in the US AND Cognitive difficulty = No AND Difficulty hearing = No\n"
     ]
    }
   ],
   "source": [
    "# get data with all protected attributes for each state\n",
    "X_all1, _ = load_state_data(state1, problem_cls=ProtectedOnly)\n",
    "X_all2, _ = load_state_data(state2, problem_cls=ProtectedOnly)\n",
    "protected_attrs_all = ProtectedOnly.features\n",
    "continuous_feats_prot = [a for a in protected_attrs_all if a in CONTINUOUS_FEATURES]\n",
    "\n",
    "msd_cross, rule_cross = detect_bias_two_samples(\n",
    "    X_all1, X_all2, \n",
    "    protected_list=protected_attrs_all,\n",
    "    continuous_list=continuous_feats_prot,\n",
    "    fp_map=feature_map,\n",
    "    n_samples=n_samples,\n",
    "    seed=seed,\n",
    "    method=method,\n",
    "    method_kwargs=method_kwargs\n",
    ")\n",
    "\n",
    "report_subgroup_bias(\n",
    "    f\"{state1} vs {state2}\",\n",
    "    msd_cross,\n",
    "    rule_cross,\n",
    "    FEATURE_NAMES,\n",
    "    PROTECTED_VALUES_MAP,\n",
    ")"
   ]
  },
  {
   "cell_type": "code",
   "execution_count": 11,
   "id": "163ec11d",
   "metadata": {},
   "outputs": [
    {
     "name": "stderr",
     "output_type": "stream",
     "text": [
      "[WARNING] Vector y has dtype int64 instead of bool. Assuming value for True is 1.\n"
     ]
    },
    {
     "name": "stdout",
     "output_type": "stream",
     "text": [
      "Δ = 0.226 -> subgroup is more prevalent in **NH**.\n"
     ]
    }
   ],
   "source": [
    "# Signed gap (Δ) for the cross-state rule\n",
    "\n",
    "# y_cross: 0 for the first state, 1 for the second state\n",
    "X_cross = pd.concat([X_all1, X_all2], ignore_index=True)\n",
    "y_cross = np.concatenate([\n",
    "    np.zeros(X_all1.shape[0], dtype=int),\n",
    "    np.ones (X_all2.shape[0], dtype=int),\n",
    "])\n",
    "y_cross = pd.DataFrame(y_cross, columns=[\"target\"])\n",
    "\n",
    "np.random.seed(seed)                      # keep the subsampling reproducible\n",
    "_, X_cross_pr, y_cross_pr = prepare_dataset(\n",
    "    X_cross,\n",
    "    y_cross,\n",
    "    n_max=n_samples,\n",
    "    protected_attrs=protected_attrs_all,\n",
    "    continuous_feats=continuous_feats_prot,\n",
    "    feature_processing=feature_map,\n",
    ")\n",
    "\n",
    "mask_cross  = subgroup_map_from_conjuncts_dataframe(rule_cross, X_cross_pr)\n",
    "delta_cross = signed_subgroup_discrepancy(mask_cross, y_cross_pr)\n",
    "\n",
    "direction = (\n",
    "    f\"more prevalent in **{state2}**\"  # NH\n",
    "    if delta_cross > 0\n",
    "    else f\"more prevalent in **{state1}**\"  # FL\n",
    ")\n",
    "\n",
    "print(f\"Δ = {delta_cross:.3f} -> subgroup is {direction}.\")\n"
   ]
  },
  {
   "cell_type": "markdown",
   "id": "692f15d6",
   "metadata": {},
   "source": [
    "> **Florida and New Hampshire - interpreting MSD & Δ**  \n",
    "> * **MSD = 0.226** is the *magnitude* of the biggest demographic shift between the two states.  \n",
    "> * **Δ = +0.226** means the subgroup is **more common in New Hampshire than in Florida** (rows from NH were labelled `1`).  \n",
    ">   If Δ were negative we would read it the other way around.\n",
    ">\n",
    "> Still curious about the exact codes for variables such as `RAC1P` or `CIT`?  \n",
    "> See the [2018 PUMS Data Dictionary](https://www2.census.gov/programs-surveys/acs/tech_docs/pums/data_dict/PUMS_Data_Dictionary_2018.pdf).\n"
   ]
  },
  {
   "cell_type": "markdown",
   "id": "1a182285",
   "metadata": {},
   "source": [
    "The **FL vs NH MSD** of **0.226** means that the subgroup  \n",
    "**`RAC1P = 1.0 AND CIT = 1.0 AND DREM = 2.0 AND DEAR = 2.0`**  \n",
    "(White, US-born people, without cognitive or hearing difficutlies) is disproportionately represented, with a **22.6 pp** difference in proportions between Florida and New Hampshire.\n",
    "\n",
    "> For a complete list of every ACS variable’s codes and labels (so you can look up other states, education levels, etc.), see the official 2018 PUMS Data Dictionary:  \n",
    "> https://www2.census.gov/programs-surveys/acs/tech_docs/pums/data_dict/PUMS_Data_Dictionary_2018.pdf"
   ]
  },
  {
   "cell_type": "markdown",
   "id": "8ed0467e",
   "metadata": {},
   "source": [
    "## Conclusion\n",
    "\n",
    "In this notebook, we have seen how **Maximum Subgroup Discrepancy (MSD)** can uncover both within-population and cross-population biases in a real-world dataset:\n",
    "\n",
    "1. **Within-State Discrepancies**  \n",
    "   - For **Florida**, the subgroup  \n",
    "     `RAC1P = 1.0 AND SEX = 1.0`  \n",
    "     (\"White\" **and** \"Male\") is the most disproportionately represented, with an MSD of **0.193** (19.3 pp gap vs its complement).  \n",
    "   - For **New Hampshire**, the subgroup  \n",
    "     `RAC1P = 1.0 AND SEX = 1.0`  \n",
    "     (\"White\" **and** \"Male\") is the most disproportionately represented, with an MSD of **0.217**.\n",
    "\n",
    "2. **Cross-State Discrepancy**  \n",
    "   - Comparing **Florida vs New Hampshire**, the subgroup  \n",
    "     **`RAC1P = 1.0 AND CIT = 1.0 AND DREM = 2.0 AND DEAR = 2.0`**  \n",
    "(White, US-born people, without cognitive or hearing difficutlies) is the most disproportionately represented, with an MSD of **0.226** (22.6 pp gap in share).\n",
    "\n",
    "Feel free to play with different feature sets, years, or other folktables problems (ACSPublicCoverage, ACSMobility, ...)."
   ]
  }
 ],
 "metadata": {
  "kernelspec": {
   "display_name": ".venv",
   "language": "python",
   "name": "python3"
  },
  "language_info": {
   "codemirror_mode": {
    "name": "ipython",
    "version": 3
   },
   "file_extension": ".py",
   "mimetype": "text/x-python",
   "name": "python",
   "nbconvert_exporter": "python",
   "pygments_lexer": "ipython3",
   "version": "3.13.3"
  }
 },
 "nbformat": 4,
 "nbformat_minor": 5
}
