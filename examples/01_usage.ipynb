{
 "cells": [
  {
   "cell_type": "markdown",
   "id": "8e3bba9a",
   "metadata": {},
   "source": [
    "# Bias Detection with **MSD**"
   ]
  },
  {
   "cell_type": "markdown",
   "id": "04f3c510",
   "metadata": {},
   "source": [
    "**Maximum Subgroup Discrepancy (MSD)** measures how far two distributions differ inside their worst-case protected subgroup.\n",
    "\n",
    "* Two datasets are **close** iff every subgroup defined by the\n",
    "  protected attributes behaves similarly.  \n",
    "* MSD keeps that worst-case guarantee **and** needs only **O(# protected features)**\n",
    "  samples (linear) instead of the exponential sample sizes required by\n",
    "  classical distances such as Total Variation or Wasserstein.\n",
    "\n",
    "**Why this matters**: MSD uncovers hidden *intersectional* bias that\n",
    "  marginal metrics miss **and** returns the exact logical rule describing the\n",
    "  most disadvantaged group.\n"
   ]
  },
  {
   "cell_type": "markdown",
   "id": "b06fca52",
   "metadata": {},
   "source": [
    "## Demo dataset  `01_data.csv`\n",
    "\n",
    "| Column   | Type & values                                                 | Role            |\n",
    "|----------|--------------------------------------------------------------|-----------------|\n",
    "| `Race`   | categorical {Green, Blue, Purple}                            | protected       |\n",
    "| `Age`    | categorical {0-18, 18-30, 30-45, 45-60, 60+}                 | protected       |\n",
    "| `Target` | binary {0, 1} (e.g. loan approval)                           | outcome tested  |\n",
    "\n",
    "The toy data are crafted so that global **demographic parity** holds  \n",
    "(each race × age bucket has the same mean `Target`) **but young Blue people are\n",
    "severely under-served**.  \n",
    "MSD should discover exactly that subgroup."
   ]
  },
  {
   "cell_type": "markdown",
   "id": "ef678f1c",
   "metadata": {},
   "source": [
    "<img src=\"../images/motivation_MSD.png\" width=\"600\">"
   ]
  },
  {
   "cell_type": "code",
   "execution_count": 1,
   "id": "1890a865",
   "metadata": {},
   "outputs": [],
   "source": [
    "dataset_path = \"../data/01_data.csv\"\n",
    "\n",
    "target = \"Target\"\n",
    "protected_list = [\"Race\", \"Age\"]"
   ]
  },
  {
   "cell_type": "code",
   "execution_count": 2,
   "id": "6a6bc8c9",
   "metadata": {},
   "outputs": [
    {
     "name": "stderr",
     "output_type": "stream",
     "text": [
      "[INFO] Running HiGHS 1.11.0 (git hash: 364c83a): Copyright (c) 2025 HiGHS under MIT licence terms\n",
      "[INFO] RUN!\n",
      "[INFO] MIP  has 264 rows; 39 cols; 700 nonzeros; 9 integer variables (9 binary)\n",
      "[INFO] Coefficient ranges:\n",
      "[INFO]   Matrix [3e-02, 2e+00]\n",
      "[INFO]   Cost   [1e+00, 1e+00]\n",
      "[INFO]   Bound  [1e+00, 1e+00]\n",
      "[INFO]   RHS    [1e+00, 2e+00]\n",
      "[INFO] Presolving model\n",
      "[INFO] 205 rows, 39 cols, 613 nonzeros  0s\n",
      "[INFO] 205 rows, 39 cols, 613 nonzeros  0s\n",
      "[INFO] \n",
      "[INFO] Solving MIP model with:\n",
      "[INFO]    205 rows\n",
      "[INFO]    39 cols (9 binary, 0 integer, 0 implied int., 30 continuous, 0 domain fixed)\n",
      "[INFO]    613 nonzeros\n",
      "[INFO] \n",
      "[INFO] Src: B => Branching; C => Central rounding; F => Feasibility pump; J => Feasibility jump;\n",
      "[INFO]      H => Heuristic; L => Sub-MIP; P => Empty MIP; R => Randomized rounding; Z => ZI Round;\n",
      "[INFO]      I => Shifting; S => Solve LP; T => Evaluate node; U => Unbounded; X => User solution;\n",
      "[INFO]      z => Trivial zero; l => Trivial lower; u => Trivial upper; p => Trivial point\n",
      "[INFO] \n",
      "[INFO]         Nodes      |    B&B Tree     |            Objective Bounds              |  Dynamic Constraints |       Work      \n",
      "[INFO] Src  Proc. InQueue |  Leaves   Expl. | BestBound       BestSol              Gap |   Cuts   InLp Confl. | LpIters     Time\n",
      "[INFO] \n",
      "[INFO]  J       0       0         0   0.00%   inf             -0                 Large        0      0      0         0     0.0s\n",
      "[INFO]          0       0         0   0.00%   1               -0                 Large        0      0      0        19     0.0s\n",
      "[INFO] \n",
      "[INFO] Symmetry detection completed in 0.0s\n",
      "[INFO] Found 1 generator(s)\n",
      "[INFO] \n",
      "[INFO]  L       0       0         0   0.00%   1               0.1111111111     800.00%      373      6      0       233     0.0s\n",
      "[INFO]         27       0        14 100.00%   0.1111111111    0.1111111111       0.00%      386      6     73      1887     0.1s\n",
      "[INFO] \n",
      "[INFO] Solving report\n",
      "[INFO]   Status            Optimal\n",
      "[INFO]   Primal bound      0.111111111111\n",
      "[INFO]   Dual bound        0.111111111111\n",
      "[INFO]   Gap               0% (tolerance: 0.01%)\n",
      "[INFO]   P-D integral      0.244703199991\n",
      "[INFO]   Solution status   feasible\n",
      "[INFO]                     0.111111111111 (objective)\n",
      "[INFO]                     0 (bound viol.)\n",
      "[INFO]                     0 (int. viol.)\n",
      "[INFO]                     0 (row viol.)\n",
      "[INFO]   Timing            0.08 (total)\n",
      "[INFO]                     0.00 (presolve)\n",
      "[INFO]                     0.00 (solve)\n",
      "[INFO]                     0.00 (postsolve)\n",
      "[INFO]   Max sub-MIP depth 2\n",
      "[INFO]   Nodes             27\n",
      "[INFO]   Repair LPs        0 (0 feasible; 0 iterations)\n",
      "[INFO]   LP iterations     1887 (total)\n",
      "[INFO]                     857 (strong br.)\n",
      "[INFO]                     130 (separation)\n",
      "[INFO]                     414 (heuristics)\n",
      "[WARNING] Vector y has dtype int64 instead of bool. Assuming value for True is 1.\n"
     ]
    }
   ],
   "source": [
    "from humancompatible.detect import most_biased_subgroup_csv, evaluate_biased_subgroup_csv\n",
    "\n",
    "rule = most_biased_subgroup_csv(\n",
    "    csv_path=dataset_path,\n",
    "    target_col=target,\n",
    "    protected_list=protected_list,\n",
    "    method=\"MSD\",\n",
    ")\n",
    "\n",
    "msd_val = evaluate_biased_subgroup_csv(\n",
    "    csv_path=dataset_path,\n",
    "    target_col=target,\n",
    "    protected_list=protected_list,\n",
    "    method=\"MSD\",\n",
    "    method_kwargs={\"rule\": rule},\n",
    ")\n"
   ]
  },
  {
   "cell_type": "code",
   "execution_count": 3,
   "id": "733a3c76",
   "metadata": {},
   "outputs": [
    {
     "name": "stdout",
     "output_type": "stream",
     "text": [
      "MSD value: 0.111\n",
      "Rule: [(0, Bin(<humancompatible.detect.data_handler.features.Categorical.Categorical object at 0x000001CA44084590>, <Operation.EQ: '='>, 'Blue')), (1, Bin(<humancompatible.detect.data_handler.features.Categorical.Categorical object at 0x000001CA440907D0>, <Operation.EQ: '='>, '0-18'))]\n"
     ]
    }
   ],
   "source": [
    "print(f\"MSD value: {msd_val:.3f}\")\n",
    "print(f\"Rule: {rule}\")"
   ]
  },
  {
   "cell_type": "markdown",
   "id": "85af7179",
   "metadata": {},
   "source": [
    "## Interpreting the rule\n",
    "\n",
    "`rule` is a list of pairs of original feature indices (columns) and `Bin` objects, that describe the condition applied to a given feature value. The bins can be easily printed: "
   ]
  },
  {
   "cell_type": "code",
   "execution_count": 4,
   "id": "b15c7893",
   "metadata": {},
   "outputs": [
    {
     "name": "stdout",
     "output_type": "stream",
     "text": [
      "The group is: Race = Blue AND Age = 0-18\n"
     ]
    }
   ],
   "source": [
    "print(\"The group is: \" + \" AND \".join(str(r) for _, r in rule))"
   ]
  },
  {
   "cell_type": "markdown",
   "id": "caa33cd2-15ba-442a-bc87-a70b098a1fbd",
   "metadata": {},
   "source": [
    "We can also use the `Bin` objects to simply evaluate samples using the rule."
   ]
  },
  {
   "cell_type": "code",
   "execution_count": 5,
   "id": "8f208bd6-f3b4-4f11-95ab-42a5bd3488f5",
   "metadata": {},
   "outputs": [
    {
     "data": {
      "text/plain": [
       "array([ True, False, False])"
      ]
     },
     "execution_count": 5,
     "metadata": {},
     "output_type": "execute_result"
    }
   ],
   "source": [
    "import numpy as np\n",
    "\n",
    "samples = np.array([[\"Blue\", \"0-18\"], [\"Green\", \"0-18\"], [\"Blue\", \"40-60\"]])\n",
    "\n",
    "in_group = np.ones(samples.shape[0], dtype=bool)\n",
    "for i, r in rule:\n",
    "    in_group &= r.evaluate(samples[:,i])\n",
    "in_group"
   ]
  },
  {
   "cell_type": "markdown",
   "id": "8472f8e8",
   "metadata": {},
   "source": [
    "## Conclusion\n",
    "\n",
    "**MSD score**  \n",
    "  The computed MSD of **0.111…** tells us that the subgroup  \n",
    "  **`Race = Blue AND Age = 0–18`**  \n",
    "  appears **11.1 percentage points more often** among the negative outcomes than among the positive outcomes.\n",
    "\n",
    "**What does this mean**  \n",
    "  In this toy dataset, \"Blue young persons\" are the most disproportionally-served subgroup, as evident from the image."
   ]
  }
 ],
 "metadata": {
  "kernelspec": {
   "display_name": ".venv (3.13.3)",
   "language": "python",
   "name": "python3"
  },
  "language_info": {
   "codemirror_mode": {
    "name": "ipython",
    "version": 3
   },
   "file_extension": ".py",
   "mimetype": "text/x-python",
   "name": "python",
   "nbconvert_exporter": "python",
   "pygments_lexer": "ipython3",
   "version": "3.13.3"
  }
 },
 "nbformat": 4,
 "nbformat_minor": 5
}
