{
 "cells": [
  {
   "cell_type": "markdown",
   "id": "2b764402",
   "metadata": {},
   "source": [
    "# Folktables: Real-World Bias Detection with MSD (2)\n",
    "\n",
    "This is the **second** part for operating with the folktables database.  \n",
    "And we will focus on finding the subgroup where two states differ most.\n"
   ]
  },
  {
   "cell_type": "markdown",
   "id": "adc690ca",
   "metadata": {},
   "source": [
    "## Configuration & Imports"
   ]
  },
  {
   "cell_type": "code",
   "execution_count": 1,
   "id": "7c60cf15",
   "metadata": {},
   "outputs": [],
   "source": [
    "import numpy as np\n",
    "import pandas as pd\n",
    "\n",
    "# We'll run the Income >= 50k task for each state:\n",
    "from folktables import ACSIncome\n",
    "\n",
    "from humancompatible.detect import detect_and_score\n",
    "from humancompatible.detect import most_biased_subgroup, evaluate_biased_subgroup\n",
    "from humancompatible.detect import most_biased_subgroup_two_samples, evaluate_biased_subgroup_two_samples\n",
    "from humancompatible.detect.helpers import report_subgroup_bias\n",
    "\n",
    "from humancompatible.detect.helpers.prepare import prepare_dataset\n",
    "from humancompatible.detect.helpers.utils import signed_subgroup_discrepancy\n",
    "from humancompatible.detect.methods.msd.mapping_msd import subgroup_map_from_conjuncts_dataframe\n",
    "from humancompatible.detect.helpers.utils import signed_subgroup_prevalence_diff\n",
    "\n",
    "from supports.folktables_utils import (\n",
    "    load_state_data,\n",
    "    ProtectedOnly,\n",
    "    FEATURE_PROCESSING,\n",
    "    CONTINUOUS_FEATURES, \n",
    "    FEATURE_NAMES, \n",
    "    PROTECTED_VALUES_MAP,\n",
    ")"
   ]
  },
  {
   "cell_type": "markdown",
   "id": "a2c40915",
   "metadata": {},
   "source": [
    "## PUMS Data Dictionary\n",
    "\n",
    "For a complete list of all ACS PUMS variables, their codes and labels (e.g. every state code for `POBP`, every education level for `SCHL`, etc.), see the official 2018 PUMS Data Dictionary:\n",
    "\n",
    "> **PUMS Data Dictionary (2018)**  \n",
    "> https://www2.census.gov/programs-surveys/acs/tech_docs/pums/data_dict/PUMS_Data_Dictionary_2018.pdf"
   ]
  },
  {
   "cell_type": "markdown",
   "id": "bdeb10ad",
   "metadata": {},
   "source": [
    "## State selection"
   ]
  },
  {
   "cell_type": "code",
   "execution_count": 2,
   "id": "46bafef0",
   "metadata": {},
   "outputs": [],
   "source": [
    "# ────────── Which two states to compare ──────────\n",
    "state1, state2 = \"FL\", \"NH\" # Florida and New Hampshire"
   ]
  },
  {
   "cell_type": "markdown",
   "id": "ee1b87b4",
   "metadata": {},
   "source": [
    "## Global Configuration"
   ]
  },
  {
   "cell_type": "code",
   "execution_count": 3,
   "id": "75d8967c",
   "metadata": {},
   "outputs": [
    {
     "name": "stdout",
     "output_type": "stream",
     "text": [
      "Features can be selected from: ['AGEP', 'COW', 'SCHL', 'MAR', 'OCCP', 'POBP', 'RELP', 'WKHP', 'SEX', 'RAC1P']\n",
      "Explanation of their abbreviations could be found below.\n"
     ]
    }
   ],
   "source": [
    "# ────────── Which columns are protected ──────────\n",
    "print(\"Features can be selected from:\", ACSIncome.features)\n",
    "print(\"Explanation of their abbreviations could be found below.\")\n",
    "protected_attrs = ['AGEP', 'SCHL', 'OCCP', 'SEX', 'RAC1P']\n",
    "\n",
    "# ────────── MSD / Solver settings ──────────\n",
    "n_samples = 1_000   # number of samples to subsample for faster computation\n",
    "method = \"MSD\"\n",
    "seed = 42 # fixed for demo purposes \n",
    "method_kwargs = {\n",
    "    \"solver\": \"gurobi\",  # comment out if you don’t have a license\n",
    "}"
   ]
  },
  {
   "cell_type": "markdown",
   "id": "821286c5",
   "metadata": {},
   "source": [
    "## Download & Prepare the Two-State Dataset"
   ]
  },
  {
   "cell_type": "code",
   "execution_count": 4,
   "id": "b6e3ddae",
   "metadata": {},
   "outputs": [
    {
     "name": "stdout",
     "output_type": "stream",
     "text": [
      "FL shape: (202160, 14)\n",
      "NH shape: (13780, 14)\n"
     ]
    },
    {
     "data": {
      "text/html": [
       "<div>\n",
       "<style scoped>\n",
       "    .dataframe tbody tr th:only-of-type {\n",
       "        vertical-align: middle;\n",
       "    }\n",
       "\n",
       "    .dataframe tbody tr th {\n",
       "        vertical-align: top;\n",
       "    }\n",
       "\n",
       "    .dataframe thead th {\n",
       "        text-align: right;\n",
       "    }\n",
       "</style>\n",
       "<table border=\"1\" class=\"dataframe\">\n",
       "  <thead>\n",
       "    <tr style=\"text-align: right;\">\n",
       "      <th></th>\n",
       "      <th>SEX</th>\n",
       "      <th>RAC1P</th>\n",
       "      <th>AGEP</th>\n",
       "      <th>POBP</th>\n",
       "      <th>DIS</th>\n",
       "      <th>CIT</th>\n",
       "      <th>MIL</th>\n",
       "      <th>ANC</th>\n",
       "      <th>NATIVITY</th>\n",
       "      <th>DEAR</th>\n",
       "      <th>DEYE</th>\n",
       "      <th>DREM</th>\n",
       "      <th>FER</th>\n",
       "      <th>POVPIP</th>\n",
       "    </tr>\n",
       "  </thead>\n",
       "  <tbody>\n",
       "    <tr>\n",
       "      <th>0</th>\n",
       "      <td>1.0</td>\n",
       "      <td>8.0</td>\n",
       "      <td>64.0</td>\n",
       "      <td>327.0</td>\n",
       "      <td>2.0</td>\n",
       "      <td>5.0</td>\n",
       "      <td>4.0</td>\n",
       "      <td>1.0</td>\n",
       "      <td>2.0</td>\n",
       "      <td>2.0</td>\n",
       "      <td>2.0</td>\n",
       "      <td>2.0</td>\n",
       "      <td>0.0</td>\n",
       "      <td>0.0</td>\n",
       "    </tr>\n",
       "    <tr>\n",
       "      <th>1</th>\n",
       "      <td>2.0</td>\n",
       "      <td>1.0</td>\n",
       "      <td>95.0</td>\n",
       "      <td>12.0</td>\n",
       "      <td>1.0</td>\n",
       "      <td>1.0</td>\n",
       "      <td>4.0</td>\n",
       "      <td>1.0</td>\n",
       "      <td>1.0</td>\n",
       "      <td>2.0</td>\n",
       "      <td>2.0</td>\n",
       "      <td>1.0</td>\n",
       "      <td>0.0</td>\n",
       "      <td>0.0</td>\n",
       "    </tr>\n",
       "    <tr>\n",
       "      <th>2</th>\n",
       "      <td>1.0</td>\n",
       "      <td>2.0</td>\n",
       "      <td>15.0</td>\n",
       "      <td>12.0</td>\n",
       "      <td>2.0</td>\n",
       "      <td>1.0</td>\n",
       "      <td>0.0</td>\n",
       "      <td>1.0</td>\n",
       "      <td>1.0</td>\n",
       "      <td>2.0</td>\n",
       "      <td>2.0</td>\n",
       "      <td>2.0</td>\n",
       "      <td>0.0</td>\n",
       "      <td>0.0</td>\n",
       "    </tr>\n",
       "    <tr>\n",
       "      <th>3</th>\n",
       "      <td>1.0</td>\n",
       "      <td>9.0</td>\n",
       "      <td>20.0</td>\n",
       "      <td>11.0</td>\n",
       "      <td>2.0</td>\n",
       "      <td>1.0</td>\n",
       "      <td>2.0</td>\n",
       "      <td>2.0</td>\n",
       "      <td>1.0</td>\n",
       "      <td>2.0</td>\n",
       "      <td>2.0</td>\n",
       "      <td>2.0</td>\n",
       "      <td>0.0</td>\n",
       "      <td>0.0</td>\n",
       "    </tr>\n",
       "    <tr>\n",
       "      <th>4</th>\n",
       "      <td>1.0</td>\n",
       "      <td>2.0</td>\n",
       "      <td>18.0</td>\n",
       "      <td>40.0</td>\n",
       "      <td>2.0</td>\n",
       "      <td>1.0</td>\n",
       "      <td>4.0</td>\n",
       "      <td>1.0</td>\n",
       "      <td>1.0</td>\n",
       "      <td>2.0</td>\n",
       "      <td>2.0</td>\n",
       "      <td>2.0</td>\n",
       "      <td>0.0</td>\n",
       "      <td>0.0</td>\n",
       "    </tr>\n",
       "  </tbody>\n",
       "</table>\n",
       "</div>"
      ],
      "text/plain": [
       "   SEX  RAC1P  AGEP   POBP  DIS  CIT  MIL  ANC  NATIVITY  DEAR  DEYE  DREM  \\\n",
       "0  1.0    8.0  64.0  327.0  2.0  5.0  4.0  1.0       2.0   2.0   2.0   2.0   \n",
       "1  2.0    1.0  95.0   12.0  1.0  1.0  4.0  1.0       1.0   2.0   2.0   1.0   \n",
       "2  1.0    2.0  15.0   12.0  2.0  1.0  0.0  1.0       1.0   2.0   2.0   2.0   \n",
       "3  1.0    9.0  20.0   11.0  2.0  1.0  2.0  2.0       1.0   2.0   2.0   2.0   \n",
       "4  1.0    2.0  18.0   40.0  2.0  1.0  4.0  1.0       1.0   2.0   2.0   2.0   \n",
       "\n",
       "   FER  POVPIP  \n",
       "0  0.0     0.0  \n",
       "1  0.0     0.0  \n",
       "2  0.0     0.0  \n",
       "3  0.0     0.0  \n",
       "4  0.0     0.0  "
      ]
     },
     "metadata": {},
     "output_type": "display_data"
    }
   ],
   "source": [
    "X_all1, _ = load_state_data(state1, problem_cls=ProtectedOnly)\n",
    "X_all2, _ = load_state_data(state2, problem_cls=ProtectedOnly)\n",
    "\n",
    "protected_attrs_all = ProtectedOnly.features\n",
    "continuous_feats_prot = [a for a in protected_attrs_all if a in CONTINUOUS_FEATURES]\n",
    "feature_map = FEATURE_PROCESSING  # optional custom binning - to reduce the number of bins\n",
    "\n",
    "print(f\"{state1} shape:\", X_all1.shape)\n",
    "print(f\"{state2} shape:\", X_all2.shape)\n",
    "\n",
    "display(X_all1.head())"
   ]
  },
  {
   "cell_type": "markdown",
   "id": "6ca7f8f5",
   "metadata": {},
   "source": [
    "## Cross-State Discrepancy"
   ]
  },
  {
   "cell_type": "code",
   "execution_count": 5,
   "id": "02900ffe",
   "metadata": {},
   "outputs": [
    {
     "name": "stderr",
     "output_type": "stream",
     "text": [
      "[INFO] Seeding the run with seed=42\n",
      "[INFO] Set parameter Username\n",
      "[INFO] Set parameter LicenseID to value 2649381\n",
      "[INFO] Academic license - for non-commercial use only - expires 2026-04-09\n",
      "[INFO] Seeding the run with seed=42\n",
      "[WARNING] Vector y has dtype int64 instead of bool. Assuming value for True is 1.\n"
     ]
    },
    {
     "name": "stdout",
     "output_type": "stream",
     "text": [
      "FL vs NH\n",
      "MSD = 0.226\n",
      "Rule: RAC1P = 1.0 AND CIT = 1.0 AND DREM = 2.0 AND DEAR = 2.0\n",
      "Explained rule: Race = White AND Citizenship = Born in the US AND Cognitive difficulty = No AND Difficulty hearing = No\n"
     ]
    }
   ],
   "source": [
    "# get data with all protected attributes for each state\n",
    "from copy import deepcopy\n",
    "\n",
    "\n",
    "rule_cross = most_biased_subgroup_two_samples(\n",
    "    X_all1, X_all2, \n",
    "    protected_list=protected_attrs_all,\n",
    "    continuous_list=continuous_feats_prot,\n",
    "    fp_map=feature_map,\n",
    "    n_samples=n_samples,\n",
    "    seed=seed,\n",
    "    method=method,\n",
    "    method_kwargs=method_kwargs\n",
    ")\n",
    "\n",
    "m_kwargs = deepcopy(method_kwargs)\n",
    "m_kwargs = {**m_kwargs, \"rule\": rule_cross}\n",
    "msd_cross = evaluate_biased_subgroup_two_samples(\n",
    "    X_all1, X_all2, \n",
    "    protected_list=protected_attrs_all,\n",
    "    continuous_list=continuous_feats_prot,\n",
    "    fp_map=feature_map,\n",
    "    n_samples=n_samples,\n",
    "    seed=seed,\n",
    "    method=method,\n",
    "    method_kwargs=m_kwargs\n",
    ")\n",
    "\n",
    "report_subgroup_bias(\n",
    "    f\"{state1} vs {state2}\",\n",
    "    msd_cross,\n",
    "    rule_cross,\n",
    "    FEATURE_NAMES,\n",
    "    PROTECTED_VALUES_MAP,\n",
    ")"
   ]
  },
  {
   "cell_type": "markdown",
   "id": "802b95cb",
   "metadata": {},
   "source": [
    "### Signed Cross‐State Gap (Δ)\n",
    "\n",
    "Here we’ll recompute Δ for the \"cross‐state\" rule,  \n",
    "but before this, we need to prepare datasets the same way, as they were during `evaluate_biased_subgroup*()` and comparing prevalences directly:\n",
    "\n",
    "- **Δ > 0** -> subgroup is more prevalent in **NH**  \n",
    "- **Δ < 0** -> subgroup is more prevalent in **FL**  \n"
   ]
  },
  {
   "cell_type": "code",
   "execution_count": 6,
   "id": "163ec11d",
   "metadata": {},
   "outputs": [],
   "source": [
    "# y_cross: 0 for the first state, 1 for the second state\n",
    "X_cross = pd.concat([X_all1, X_all2], ignore_index=True)\n",
    "y_cross = np.concatenate([\n",
    "    np.zeros(X_all1.shape[0], dtype=int),\n",
    "    np.ones(X_all2.shape[0], dtype=int),\n",
    "])\n",
    "y_cross = pd.DataFrame(y_cross, columns=[\"target\"])\n",
    "\n",
    "np.random.seed(seed)                # keep the subsampling reproducible\n",
    "_, X_cross_sub, y_cross_sub = prepare_dataset(\n",
    "    X_cross,\n",
    "    y_cross,\n",
    "    n_max=n_samples,\n",
    "    protected_attrs=protected_attrs_all,\n",
    "    continuous_feats=continuous_feats_prot,\n",
    "    feature_processing=feature_map,\n",
    ")"
   ]
  },
  {
   "cell_type": "code",
   "execution_count": 7,
   "id": "bd0669a5",
   "metadata": {},
   "outputs": [
    {
     "name": "stdout",
     "output_type": "stream",
     "text": [
      "Δ = 0.226 -> subgroup is more prevalent in NH.\n"
     ]
    }
   ],
   "source": [
    "mask_sub_1 = (y_cross_sub.values == 0)\n",
    "mask_sub_2 = (y_cross_sub.values == 1)\n",
    "X1_cross_sub = X_cross_sub[mask_sub_1]\n",
    "X2_cross_sub = X_cross_sub[mask_sub_2]\n",
    "\n",
    "mask_A = subgroup_map_from_conjuncts_dataframe(rule_cross, X1_cross_sub)\n",
    "mask_B = subgroup_map_from_conjuncts_dataframe(rule_cross, X2_cross_sub)\n",
    "\n",
    "delta_cross = signed_subgroup_prevalence_diff(mask_A, mask_B)\n",
    "direction = (\n",
    "    f\"more prevalent in {state2}\" if delta_cross > 0\n",
    "    else f\"more prevalent in {state1}\"\n",
    ")\n",
    "print(f\"Δ = {delta_cross:.3f} -> subgroup is {direction}.\")\n"
   ]
  },
  {
   "cell_type": "markdown",
   "id": "692f15d6",
   "metadata": {},
   "source": [
    "> **Florida and New Hampshire - interpreting MSD & Δ**  \n",
    "> * **MSD = 0.226** is the *magnitude* of the biggest demographic shift between the two states.  \n",
    "> * **Δ = +0.226** means the subgroup is **more common in New Hampshire than in Florida** (rows from NH were labelled `1`).  \n",
    ">   If Δ were negative we would read it the other way around.\n",
    ">\n",
    "> Still curious about the exact codes for variables such as `RAC1P` or `CIT`?  \n",
    "> See the [2018 PUMS Data Dictionary](https://www2.census.gov/programs-surveys/acs/tech_docs/pums/data_dict/PUMS_Data_Dictionary_2018.pdf).\n"
   ]
  },
  {
   "cell_type": "markdown",
   "id": "1a182285",
   "metadata": {},
   "source": [
    "The **FL vs NH MSD** of **0.226** means that the subgroup  \n",
    "**`RAC1P = 1.0 AND CIT = 1.0 AND DREM = 2.0 AND DEAR = 2.0`**  \n",
    "(White, US-born people, without cognitive or hearing difficutlies) is disproportionately represented, with a **22.6 pp** difference in proportions between Florida and New Hampshire.\n",
    "\n",
    "> For a complete list of every ACS variable’s codes and labels (so you can look up other states, education levels, etc.), see the official 2018 PUMS Data Dictionary:  \n",
    "> https://www2.census.gov/programs-surveys/acs/tech_docs/pums/data_dict/PUMS_Data_Dictionary_2018.pdf"
   ]
  },
  {
   "cell_type": "markdown",
   "id": "8ed0467e",
   "metadata": {},
   "source": [
    "## Takeaways\n",
    "\n",
    "In this notebook, we have seen how **Maximum Subgroup Discrepancy (MSD)** can uncover both within-population and cross-population biases in a real-world dataset:\n",
    "\n",
    "1. **Within-State Discrepancies**  \n",
    "   - For **Florida**, the subgroup  \n",
    "     `RAC1P = 1.0 AND SEX = 1.0`  \n",
    "     (\"White\" **and** \"Male\") is the most disproportionately represented, with an MSD of **0.193** (19.3 pp gap vs its complement).  \n",
    "   - For **New Hampshire**, the subgroup  \n",
    "     `RAC1P = 1.0 AND SEX = 1.0`  \n",
    "     (\"White\" **and** \"Male\") is the most disproportionately represented, with an MSD of **0.217**.\n",
    "\n",
    "2. **Cross-State Discrepancy**  \n",
    "   - Comparing **Florida vs New Hampshire**, the subgroup  \n",
    "     **`RAC1P = 1.0 AND CIT = 1.0 AND DREM = 2.0 AND DEAR = 2.0`**  \n",
    "(White, US-born people, without cognitive or hearing difficutlies) is the most disproportionately represented, with an MSD of **0.226** (22.6 pp gap in share).\n",
    "\n",
    "Feel free to play with different feature sets, years, or other folktables problems (ACSPublicCoverage, ACSMobility, ...)."
   ]
  },
  {
   "cell_type": "markdown",
   "id": "ae780ef2",
   "metadata": {},
   "source": [
    "## Tips & next steps\n",
    "\n",
    "- An option on how to obtain the signed version for the given rule can also be obtained by calling   \n",
    "`evaluate_biased_subgroup*()` with given argument `signed=True`.  \n",
    "\n",
    "- In this notebook and the previous one, alternative solutions are presented, and the way the algorithms are coded.  \n",
    "\n",
    "- More details about the signature of functions, methods, and their attributes are introduced in the **next notebook**!"
   ]
  }
 ],
 "metadata": {
  "kernelspec": {
   "display_name": ".venv (3.13.3)",
   "language": "python",
   "name": "python3"
  },
  "language_info": {
   "codemirror_mode": {
    "name": "ipython",
    "version": 3
   },
   "file_extension": ".py",
   "mimetype": "text/x-python",
   "name": "python",
   "nbconvert_exporter": "python",
   "pygments_lexer": "ipython3",
   "version": "3.13.3"
  }
 },
 "nbformat": 4,
 "nbformat_minor": 5
}
